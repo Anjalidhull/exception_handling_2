{
 "cells": [
  {
   "cell_type": "code",
   "execution_count": null,
   "id": "78d1e67c-83bf-4c92-9940-b7d345173bad",
   "metadata": {},
   "outputs": [],
   "source": [
    "Q1. Explain why we have to use the Exception class while creating a Custom Exception.\n",
    "Note: Here Exception class refers to the base class for all the exceptions."
   ]
  },
  {
   "cell_type": "code",
   "execution_count": null,
   "id": "93059be3-27e5-4fac-b674-d5552bcd3f46",
   "metadata": {},
   "outputs": [],
   "source": [
    "# Answer:----->\n",
    "Inheritance and Hierarchy:\n",
    "    By inheriting from the Exception class, your custom exception becomes part of \n",
    "the built-in hierarchy of exceptions in Python. This means your custom exception can be handled alongside\n",
    "other standard exceptions using the same syntax and mechanisms."
   ]
  },
  {
   "cell_type": "code",
   "execution_count": null,
   "id": "c3e33804-79d6-4a5f-9a98-a856f7f07ee4",
   "metadata": {},
   "outputs": [],
   "source": [
    "Catch-All Handling:\n",
    "    Since most exception handling in Python starts with catching the base Exception class, creating\n",
    "    a custom exception that derives from it allows you to catch your custom exception along with other \n",
    "    exceptions in a single except block."
   ]
  },
  {
   "cell_type": "code",
   "execution_count": null,
   "id": "4e9b0e24-9f00-4d3f-baf3-4f0769d163a6",
   "metadata": {},
   "outputs": [],
   "source": [
    "Consistency and Familiarity:\n",
    "    By using the Exception class, you ensure that your custom exception behaves like other built-in exceptions \n",
    "    in Python. This consistency makes it easier for developers to understand and work with your custom exception,\n",
    "    as they can rely on their existing knowledge of handling exceptions in Python."
   ]
  },
  {
   "cell_type": "code",
   "execution_count": null,
   "id": "1fbb93f3-98e8-4e47-a6de-9f74b1659656",
   "metadata": {},
   "outputs": [],
   "source": [
    "Error Context:\n",
    "    The Exception class provides properties and methods to store and retrieve additional information about the exception,\n",
    "    such as an error message or traceback. This allows you to pass relevant information to the calling code, aiding in \n",
    "    debugging and error analysis."
   ]
  },
  {
   "cell_type": "code",
   "execution_count": null,
   "id": "21be647d-e97f-4a1a-8841-2b113fe982ef",
   "metadata": {},
   "outputs": [],
   "source": [
    "Q2. Write a python program to print Python Exception Hierarchy."
   ]
  },
  {
   "cell_type": "code",
   "execution_count": 2,
   "id": "cdb6d98d-1e78-4bd3-8178-63c4da3bc23c",
   "metadata": {},
   "outputs": [],
   "source": [
    "def print_exception_hierarchy(exception_class, indent=0):\n",
    "    print(\"  \" * indent + exception_class.__name__)\n",
    "    for subclass in exception_class.__subclasses__():\n",
    "        print_exception_hierarchy(subclass, indent + 1)\n",
    "\n",
    "if __name__ == \"__main__\":\n",
    "    print(\"Python Exception Hierarchy:\")\n",
    "    print_exception_hierarchy(BaseException)\n"
   ]
  },
  {
   "cell_type": "code",
   "execution_count": null,
   "id": "401caa1f-ae5c-4e49-9885-80366bed3ca3",
   "metadata": {},
   "outputs": [],
   "source": [
    "Q3. What errors are defined in the ArithmeticError class? Explain any two with an example."
   ]
  },
  {
   "cell_type": "code",
   "execution_count": null,
   "id": "58007a14-e1dc-46d3-afc3-a02531ac267a",
   "metadata": {},
   "outputs": [],
   "source": [
    "The ArithmeticError class  is a base class for exceptions that occur during arithmetic operations.\n",
    "It serves as a superclass for various arithmetic-related exception classes. Two common exceptions derived from\n",
    "ArithmeticError are ZeroDivisionError and OverflowError"
   ]
  },
  {
   "cell_type": "code",
   "execution_count": null,
   "id": "58ed8ddc-062d-48a8-ae25-6d0354b84b8c",
   "metadata": {},
   "outputs": [],
   "source": [
    "ZeroDivisionError:\n",
    "\n",
    "This exception is raised when you attempt to divide a number by zero, which is not allowed in arithmetic."
   ]
  },
  {
   "cell_type": "code",
   "execution_count": 3,
   "id": "c8ecd1d2-47e1-4dfa-928b-1e4302f38a92",
   "metadata": {},
   "outputs": [
    {
     "name": "stdout",
     "output_type": "stream",
     "text": [
      "ZeroDivision Airthmetic Error\n"
     ]
    }
   ],
   "source": [
    "try :\n",
    "    result= 10/0 \n",
    "except:\n",
    "    print('ZeroDivision Airthmetic Error')"
   ]
  },
  {
   "cell_type": "code",
   "execution_count": null,
   "id": "c974d7a8-e920-4c9d-821e-8702366c643c",
   "metadata": {},
   "outputs": [],
   "source": [
    "OverflowError:\n",
    "\n",
    "This exception occurs when the result of an arithmetic operation exceeds the range of representable values for a numeric type."
   ]
  },
  {
   "cell_type": "code",
   "execution_count": 9,
   "id": "948c3721-4e03-49e3-a01d-76e9031aa7fb",
   "metadata": {},
   "outputs": [
    {
     "name": "stdout",
     "output_type": "stream",
     "text": [
      "(34, 'Numerical result out of range'), <class 'OverflowError'>\n"
     ]
    }
   ],
   "source": [
    "  j = 5.0\n",
    "\n",
    "try:\n",
    "    for i in range(1, 1000):\n",
    "        j = j**i\n",
    "except ArithmeticError as e:\n",
    "    print(f\"{e}, {e.__class__}\")"
   ]
  },
  {
   "cell_type": "code",
   "execution_count": null,
   "id": "a325389f-772b-4999-9880-40bffa0f87e6",
   "metadata": {},
   "outputs": [],
   "source": [
    "Q4. Why LookupError class is used? Explain with an example KeyError and IndexError.\n"
   ]
  },
  {
   "cell_type": "code",
   "execution_count": null,
   "id": "37c087c1-f7a3-4b88-b609-74bb6637dc5f",
   "metadata": {},
   "outputs": [],
   "source": [
    "The LookupError class in Python is a base class for exceptions that occur when a lookup or indexing operation fails.\n",
    "It serves as a superclass for several related exceptions that involve accessing elements in data structures, sequences, \n",
    "or mappings. By using LookupError, you can catch multiple types of lookup-related errors with a single except block."
   ]
  },
  {
   "cell_type": "code",
   "execution_count": null,
   "id": "21fa0c66-1729-4a8a-ac2c-1287da39fbb7",
   "metadata": {},
   "outputs": [],
   "source": [
    "KeyError:\n",
    "\n",
    "This exception is raised when you try to access a non-existent key in a dictionary or a mapping-type data structure."
   ]
  },
  {
   "cell_type": "code",
   "execution_count": 10,
   "id": "92be3a84-251f-4038-a7f9-b7304ff2b91e",
   "metadata": {},
   "outputs": [
    {
     "name": "stdout",
     "output_type": "stream",
     "text": [
      "Error: Key not found!\n"
     ]
    }
   ],
   "source": [
    "try:\n",
    "    my_dict = {\"name\": \"John\", \"age\": 30}\n",
    "    print(my_dict[\"gender\"])\n",
    "except KeyError as e:\n",
    "    print(\"Error: Key not found!\")"
   ]
  },
  {
   "cell_type": "code",
   "execution_count": null,
   "id": "aa9a44d9-c2e9-48bf-be58-d7cf92ebb0d4",
   "metadata": {},
   "outputs": [],
   "source": [
    "IndexError:\n",
    "\n",
    "This exception is raised when you try to access an element at an invalid index in a sequence (like a list, tuple, or string)."
   ]
  },
  {
   "cell_type": "code",
   "execution_count": 11,
   "id": "6a29486c-8b01-46ec-a10c-bec0dac1701d",
   "metadata": {},
   "outputs": [
    {
     "name": "stdout",
     "output_type": "stream",
     "text": [
      "Error: Index out of range!\n"
     ]
    }
   ],
   "source": [
    "try:\n",
    "    my_list = [10, 20, 30]\n",
    "    print(my_list[3])\n",
    "except IndexError as e:\n",
    "    print(\"Error: Index out of range!\")"
   ]
  },
  {
   "cell_type": "code",
   "execution_count": null,
   "id": "c45f8210-d507-42c2-b606-2c4c45c8ac88",
   "metadata": {},
   "outputs": [],
   "source": [
    "Q5. Explain ImportError. What is ModuleNotFoundError?"
   ]
  },
  {
   "cell_type": "code",
   "execution_count": null,
   "id": "6b16aa79-1906-44d4-93f8-fd21be1d0da3",
   "metadata": {},
   "outputs": [],
   "source": [
    "ImportError is an exception in Python that is raised when an import statement fails to import a module or a name\n",
    "from a module. This can happen for various reasons, such as a misspelled module name, a missing or incorrect file\n",
    "path, or a missing attribute within the module."
   ]
  },
  {
   "cell_type": "code",
   "execution_count": null,
   "id": "132ce139-6a8c-43ce-8215-a0c101d1a5d3",
   "metadata": {},
   "outputs": [],
   "source": [
    "ModuleNotFoundError is a subclass of ImportError"
   ]
  },
  {
   "cell_type": "code",
   "execution_count": 1,
   "id": "afa9c200-c998-42fb-9b45-047f3ac9530f",
   "metadata": {},
   "outputs": [
    {
     "name": "stdout",
     "output_type": "stream",
     "text": [
      "Error: Module not found!\n"
     ]
    }
   ],
   "source": [
    "try:\n",
    "    import non_existent_module\n",
    "except ModuleNotFoundError as e:\n",
    "    print(\"Error: Module not found!\")"
   ]
  },
  {
   "cell_type": "code",
   "execution_count": null,
   "id": "6797ee84-5a1e-4d39-9d6b-61577d846a98",
   "metadata": {},
   "outputs": [],
   "source": [
    "Q6. List down some best practices for exception handling in python."
   ]
  },
  {
   "cell_type": "code",
   "execution_count": null,
   "id": "b7f027de-651b-420e-bd7c-14f02882b38a",
   "metadata": {},
   "outputs": [],
   "source": [
    "Specific Exception Catching:\n",
    "\n",
    "Catch only the exceptions you expect and handle them appropriately. Avoid using a bare except block without specifying the \n",
    "exception type, as it can lead to unintended consequences and hide bugs.\n",
    "Be as specific as possible when catching exceptions to avoid catching unrelated errors.\n"
   ]
  },
  {
   "cell_type": "code",
   "execution_count": null,
   "id": "a75b9ca9-fe0f-4d03-8be5-7c948afea159",
   "metadata": {},
   "outputs": [],
   "source": [
    "Use Multiple Except Blocks:\n",
    "\n",
    "Use multiple except blocks to handle different types of exceptions separately. This approach allows you to \n",
    "provide specific error handling for each type of exception.\n"
   ]
  },
  {
   "cell_type": "code",
   "execution_count": null,
   "id": "8951276b-3605-4566-9410-cd953d7373be",
   "metadata": {},
   "outputs": [],
   "source": [
    "Use Finally Block:\n",
    "\n",
    "Use finally blocks to guarantee execution of cleanup code, whether an exception occurs or not. It is useful for\n",
    "closing files, releasing resources, etc."
   ]
  },
  {
   "cell_type": "code",
   "execution_count": null,
   "id": "1f7175fc-14b2-410b-91d5-697ccaf9991a",
   "metadata": {},
   "outputs": [],
   "source": [
    "Logging Exceptions:\n",
    "\n",
    "Log exceptions with details such as the error message, stack trace, and any relevant context.\n",
    "Logging helps in diagnosing issues and monitoring the application's health."
   ]
  },
  {
   "cell_type": "code",
   "execution_count": null,
   "id": "9e3f1ea1-b321-4ffe-a514-5e0bfbc87f72",
   "metadata": {},
   "outputs": [],
   "source": [
    "Reraise Exceptions:\n",
    "\n",
    "If you catch an exception but cannot handle it properly, consider re-raising it using raise. \n",
    "This ensures that the exception propagates up the call stack for higher-level handling."
   ]
  }
 ],
 "metadata": {
  "kernelspec": {
   "display_name": "Python 3 (ipykernel)",
   "language": "python",
   "name": "python3"
  },
  "language_info": {
   "codemirror_mode": {
    "name": "ipython",
    "version": 3
   },
   "file_extension": ".py",
   "mimetype": "text/x-python",
   "name": "python",
   "nbconvert_exporter": "python",
   "pygments_lexer": "ipython3",
   "version": "3.10.8"
  }
 },
 "nbformat": 4,
 "nbformat_minor": 5
}
